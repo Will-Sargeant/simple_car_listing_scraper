{
 "cells": [
  {
   "cell_type": "code",
   "execution_count": 80,
   "metadata": {},
   "outputs": [],
   "source": [
    "import requests\n",
    "from bs4 import BeautifulSoup\n",
    "import re\n",
    "\n",
    "def parse_text(unparsed):\n",
    "    parsed = unparsed.get_text().lstrip('\\n\\r\\n').lstrip('\\n\\r\\n ').rstrip('\\n\\r\\n').rstrip('\\n\\r\\n ')\n",
    "    return parsed\n",
    "\n",
    "def extract_uuid(string):\n",
    "    uuid_regex = re.compile(\"[0-9a-f]{8}-[0-9a-f]{4}-[0-9a-f]{4}-[0-9a-f]{4}-[0-9a-f]{12}\")\n",
    "    return re.search(uuid_regex, string).group(0)\n",
    "\n",
    "def extract_year(string):\n",
    "    year_regex = re.compile(\"[0-9]{4}\")\n",
    "    return re.search(year_regex, string).group(0)\n"
   ]
  },
  {
   "cell_type": "code",
   "execution_count": 81,
   "metadata": {},
   "outputs": [],
   "source": [
    "cazoo_page = requests.get(\"https://www.cazoo.co.uk/cars/mercedes-benz/a-class/?colour=Grey&fuelType=Petrol\")\n",
    "cinch_page = requests.get(\"https://www.cinch.co.uk/find-vehicle?bodyType=&colour=grey&doors=&driveType=&features=&fromEngineSize=-1&fromPrice=-1&fromYear=-1&fuelType=petrol&make=Mercedes-Benz&mileage=-1&pageNumber=1&pageSize=32&seats=&selectedModel=A-Class&sortingCriteria=3&tags=&toEngineSize=-1&toPrice=-1&toYear=-1&transmissionType=&useMonthly=false&variant=\")"
   ]
  },
  {
   "cell_type": "code",
   "execution_count": 98,
   "metadata": {},
   "outputs": [],
   "source": [
    "cazoo_soup = BeautifulSoup(cazoo_page.content, 'html.parser')\n",
    "cazoo_search_results = cazoo_soup.find_all(\"div\", {\"class\" : re.compile('.*vehicle-cardstyles__Card-sc.*')})\n"
   ]
  },
  {
   "cell_type": "code",
   "execution_count": 99,
   "metadata": {},
   "outputs": [],
   "source": [
    "#Cazoo Listings Dictionary\n",
    "\n",
    "cazoo_listings = []\n",
    "\n"
   ]
  },
  {
   "cell_type": "code",
   "execution_count": 100,
   "metadata": {},
   "outputs": [],
   "source": [
    "#Cazoo Listings\n",
    "\n",
    "for s in cazoo_search_results:\n",
    "    \n",
    "    car_id = extract_uuid(s.find('a', href=True)['href'])\n",
    "\n",
    "    details = s.findAll(\"div\", {\"class\" : re.compile('.*vehicle-cardstyles__DetailWrap-sc.*')})\n",
    "    \n",
    "    for d in details:\n",
    "        tags = d.find_next('ul').find_all('li')\n",
    "\n",
    "        title = parse_text(d.find(\"p\", {\"class\": re.compile('.*vehicle-cardstyles__Title-sc.*')}))\n",
    "        description = parse_text(d.find(\"p\", {\"class\" : re.compile('.*vehicle-cardstyles__DisplayVariant-sc.*')}))\n",
    "        mileage = parse_text(tags[0])\n",
    "        year = extract_year(parse_text(tags[1]))\n",
    "        transmission = parse_text(tags[2])\n",
    "        fuel = parse_text(tags[3])\n",
    "\n",
    "    price = parse_text(s.find(\"p\", {\"data-test-id\": \"card-pricing-full-price-gb\"}))\n",
    "\n",
    "    listing_details = { 'car_id': car_id,\n",
    "                        'car_title': title,\n",
    "                        'car_decsription': description,\n",
    "                        'mileage': mileage,\n",
    "                        'year': year,\n",
    "                        'transmission': transmission,\n",
    "                        'fuel': fuel,\n",
    "                        'price': price,\n",
    "                        'source': 'cazoo'\n",
    "                        }\n",
    "    \n",
    "    cazoo_listings.append(listing_details)\n"
   ]
  },
  {
   "cell_type": "code",
   "execution_count": null,
   "metadata": {},
   "outputs": [],
   "source": []
  },
  {
   "cell_type": "code",
   "execution_count": null,
   "metadata": {},
   "outputs": [],
   "source": []
  }
 ],
 "metadata": {
  "interpreter": {
   "hash": "c5480b40a0632cec59876b54e80e938058e086ea32829f46bcbb182f42496bd3"
  },
  "kernelspec": {
   "display_name": "Python 3.9.10 64-bit",
   "language": "python",
   "name": "python3"
  },
  "language_info": {
   "codemirror_mode": {
    "name": "ipython",
    "version": 3
   },
   "file_extension": ".py",
   "mimetype": "text/x-python",
   "name": "python",
   "nbconvert_exporter": "python",
   "pygments_lexer": "ipython3",
   "version": "3.9.10"
  },
  "orig_nbformat": 4
 },
 "nbformat": 4,
 "nbformat_minor": 2
}
