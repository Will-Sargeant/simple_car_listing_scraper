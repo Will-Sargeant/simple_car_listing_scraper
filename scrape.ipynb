{
 "cells": [
  {
   "cell_type": "code",
   "execution_count": 188,
   "metadata": {},
   "outputs": [],
   "source": [
    "import requests\n",
    "import time\n",
    "from bs4 import BeautifulSoup\n",
    "import re\n",
    "import pandas as pd\n",
    "\n",
    "def parse_text(unparsed):\n",
    "    parsed = unparsed.get_text().lstrip('\\n\\r\\n').lstrip('\\n\\r\\n ').rstrip('\\n\\r\\n').rstrip('\\n\\r\\n ')\n",
    "    return parsed\n",
    "\n",
    "def extract_uuid(string):\n",
    "    uuid_regex = re.compile(\"[0-9a-f]{8}-[0-9a-f]{4}-[0-9a-f]{4}-[0-9a-f]{4}-[0-9a-f]{12}\")\n",
    "    return re.search(uuid_regex, string).group(0)\n",
    "    \n",
    "def remove_non_numeric(string):\n",
    "    try: \n",
    "        string = string.strip().replace(\",\", \"\")\n",
    "        return re.sub(\"[^0-9]\", \"\", string)\n",
    "    except AttributeError:\n",
    "        pass\n",
    "\n",
    "def extract_autotrader_year(string):\n",
    "    try:\n",
    "        return remove_non_numeric(string)[:4]\n",
    "    except TypeError:\n",
    "        pass\n",
    "\n",
    "\n",
    "#URL Headers\n",
    "headers = {\"User-Agent\":\"Mozilla/5.0\"}"
   ]
  },
  {
   "cell_type": "code",
   "execution_count": 180,
   "metadata": {},
   "outputs": [],
   "source": [
    "#Listings Dicts\n",
    "\n",
    "cazoo_listings = []\n",
    "\n",
    "autotrader_listings = []"
   ]
  },
  {
   "cell_type": "code",
   "execution_count": 194,
   "metadata": {},
   "outputs": [
    {
     "name": "stdout",
     "output_type": "stream",
     "text": [
      "found 22 car listings on Cazoo\n"
     ]
    }
   ],
   "source": [
    "#Cazoo Listings\n",
    "\n",
    "cazoo_listings.clear() # delete all values in the cazoo listings dict\n",
    "\n",
    "cazoo_page = requests.get(\"https://www.cazoo.co.uk/cars/mercedes-benz/a-class/?colour=Grey&fuelType=Petrol\", headers=headers)\n",
    "\n",
    "cazoo_soup = BeautifulSoup(cazoo_page.content, 'html.parser')\n",
    "cazoo_search_results = cazoo_soup.find_all(\"div\", {\"class\" : re.compile('.*vehicle-cardstyles__Card-sc.*')})\n",
    "\n",
    "for s in cazoo_search_results:\n",
    "    \n",
    "    car_id = extract_uuid(s.find('a', href=True)['href'])\n",
    "\n",
    "    details = s.findAll(\"div\", {\"class\" : re.compile('.*vehicle-cardstyles__DetailWrap-sc.*')})\n",
    "    \n",
    "    for d in details:\n",
    "        tags = d.find_next('ul').find_all('li')\n",
    "\n",
    "        title = parse_text(d.find(\"p\", {\"class\": re.compile('.*vehicle-cardstyles__Title-sc.*')}))\n",
    "        description = parse_text(d.find(\"p\", {\"class\" : re.compile('.*vehicle-cardstyles__DisplayVariant-sc.*')}))\n",
    "        mileage = remove_non_numeric(parse_text(tags[0]))\n",
    "        year = remove_non_numeric(parse_text(tags[1]))\n",
    "        transmission = parse_text(tags[2])\n",
    "        fuel = parse_text(tags[3])\n",
    "\n",
    "    price_gbp = remove_non_numeric(parse_text(s.find(\"p\", {\"data-test-id\": \"card-pricing-full-price-gb\"})))\n",
    "\n",
    "    listing_details = { 'car_id': car_id,\n",
    "                        'car_title': title,\n",
    "                        'car_decsription': description,\n",
    "                        'mileage': mileage,\n",
    "                        'year': year,\n",
    "                        'transmission': transmission,\n",
    "                        'fuel': fuel,\n",
    "                        'price_gbp': price_gbp,\n",
    "                        'source': 'Cazoo',\n",
    "                        'url': f\"https://www.cazoo.co.uk/car-details/{car_id}/\"\n",
    "                        }\n",
    "    \n",
    "    cazoo_listings.append(listing_details)\n",
    "\n",
    "print(f\"found {len(cazoo_listings)} car listings on Cazoo\")\n"
   ]
  },
  {
   "cell_type": "code",
   "execution_count": 195,
   "metadata": {},
   "outputs": [
    {
     "name": "stdout",
     "output_type": "stream",
     "text": [
      "found 429 car listings on Autotrader\n"
     ]
    }
   ],
   "source": [
    "#Autotrader Listings\n",
    "\n",
    "autotrader_listings.clear() # delete all values in the cazoo listings dict\n",
    "\n",
    "for page in range(1, 40): #checks the first 40 pages of paginated results\n",
    "\n",
    "    autotrader_page = requests.get(f\"https://www.autotrader.co.uk/car-search?sort=price-asc&postcode=WC2N5DU&radius=1500&make=Mercedes-Benz&model=A%20Class&include-delivery-option=on&year-from=2020&fuel-type=Petrol&exclude-writeoff-categories=on&page={page}\", headers=headers)\n",
    "    time.sleep(2) # space requests 2 seconds apart to avoid being rate limited\n",
    "    autotrader_soup = BeautifulSoup(autotrader_page.content, 'html.parser')\n",
    "    autotrader_search_results = autotrader_soup.find_all(\"li\", {\"class\" : \"search-page__result\"})\n",
    "\n",
    "    for r in autotrader_search_results: \n",
    "\n",
    "        car_id = r.get('id')\n",
    "        title = parse_text(r.find(\"h3\", {\"class\": \"product-card-details__title\"}))\n",
    "        description = parse_text(r.find(\"p\", {\"class\": \"product-card-details__subtitle\"}))\n",
    "        price_gbp = remove_non_numeric(parse_text(r.find(\"div\", {\"class\": \"product-card-pricing__price\"})))\n",
    "\n",
    "        key_specs = r.find_all(\"li\", {\"class\": \"atc-type-picanto--medium\"})\n",
    "        key_specs_list = [parse_text(key_spec) for key_spec in key_specs]\n",
    "        \n",
    "        mileage = remove_non_numeric(next((x for x in key_specs_list if 'miles' in x), None))\n",
    "        year = extract_autotrader_year(next((x for x in key_specs_list if 'reg)' in x), None))\n",
    "        fuel = ('Petrol' if 'Petrol' in key_specs_list else 'Diesel')\n",
    "        transmission = ('Manual' if 'Manual' in key_specs_list else 'Automatic')\n",
    "\n",
    "\n",
    "        listing_details = { 'car_id': car_id,\n",
    "                            'car_title': title,\n",
    "                            'car_decsription': description,\n",
    "                            'mileage': mileage,\n",
    "                            'year': year,\n",
    "                            'transmission': transmission,\n",
    "                            'fuel': fuel,\n",
    "                            'price_gbp': price_gbp,\n",
    "                            'source': 'Autotrader',\n",
    "                            'url': f\"https://www.autotrader.co.uk/car-details/{car_id}\"\n",
    "                            }\n",
    "\n",
    "        autotrader_listings.append(listing_details)\n",
    "\n",
    "print(f\"found {len(autotrader_listings)} car listings on Autotrader\")"
   ]
  },
  {
   "cell_type": "code",
   "execution_count": null,
   "metadata": {},
   "outputs": [],
   "source": []
  }
 ],
 "metadata": {
  "interpreter": {
   "hash": "c5480b40a0632cec59876b54e80e938058e086ea32829f46bcbb182f42496bd3"
  },
  "kernelspec": {
   "display_name": "Python 3.9.10 64-bit",
   "language": "python",
   "name": "python3"
  },
  "language_info": {
   "codemirror_mode": {
    "name": "ipython",
    "version": 3
   },
   "file_extension": ".py",
   "mimetype": "text/x-python",
   "name": "python",
   "nbconvert_exporter": "python",
   "pygments_lexer": "ipython3",
   "version": "3.9.10"
  },
  "orig_nbformat": 4
 },
 "nbformat": 4,
 "nbformat_minor": 2
}
